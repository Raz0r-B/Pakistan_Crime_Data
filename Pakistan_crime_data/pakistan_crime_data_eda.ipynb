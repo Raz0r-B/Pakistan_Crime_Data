{
 "cells": [
  {
   "cell_type": "markdown",
   "metadata": {},
   "source": [
    "# Pakistan Crime Data\n",
    "\n",
    "    1. How many murders happened in different provinces\n",
    "    2. In which Province most crimes have happened\n",
    "    3. In which Province least crimes have happened\n",
    "    4. More in depth crimes Analysis in Islamabad\n"
   ]
  },
  {
   "cell_type": "code",
   "execution_count": null,
   "metadata": {},
   "outputs": [],
   "source": []
  },
  {
   "cell_type": "code",
   "execution_count": 186,
   "metadata": {},
   "outputs": [],
   "source": [
    "import numpy as np \r\n",
    "import pandas as pd \r\n",
    "import os\r\n",
    "import plotly.express as px\r\n"
   ]
  },
  {
   "cell_type": "code",
   "execution_count": 187,
   "metadata": {},
   "outputs": [],
   "source": [
    "df = pd.read_csv('pakistan_crime_data.csv')"
   ]
  },
  {
   "cell_type": "code",
   "execution_count": 188,
   "metadata": {},
   "outputs": [
    {
     "name": "stdout",
     "output_type": "stream",
     "text": [
      "(60, 12)\n"
     ]
    },
    {
     "data": {
      "text/html": [
       "<div>\n",
       "<style scoped>\n",
       "    .dataframe tbody tr th:only-of-type {\n",
       "        vertical-align: middle;\n",
       "    }\n",
       "\n",
       "    .dataframe tbody tr th {\n",
       "        vertical-align: top;\n",
       "    }\n",
       "\n",
       "    .dataframe thead th {\n",
       "        text-align: right;\n",
       "    }\n",
       "</style>\n",
       "<table border=\"1\" class=\"dataframe\">\n",
       "  <thead>\n",
       "    <tr style=\"text-align: right;\">\n",
       "      <th></th>\n",
       "      <th>_id</th>\n",
       "      <th>Year</th>\n",
       "      <th>Offence</th>\n",
       "      <th>Punjab</th>\n",
       "      <th>Sindh</th>\n",
       "      <th>KP</th>\n",
       "      <th>Balochistan</th>\n",
       "      <th>Islamabad</th>\n",
       "      <th>Railways</th>\n",
       "      <th>G.B</th>\n",
       "      <th>AJK</th>\n",
       "      <th>Pakistan</th>\n",
       "    </tr>\n",
       "  </thead>\n",
       "  <tbody>\n",
       "    <tr>\n",
       "      <th>0</th>\n",
       "      <td>1</td>\n",
       "      <td>2012</td>\n",
       "      <td>Murder</td>\n",
       "      <td>6128</td>\n",
       "      <td>3726</td>\n",
       "      <td>2958</td>\n",
       "      <td>711</td>\n",
       "      <td>120</td>\n",
       "      <td>6</td>\n",
       "      <td>102</td>\n",
       "      <td>95</td>\n",
       "      <td>13846</td>\n",
       "    </tr>\n",
       "    <tr>\n",
       "      <th>1</th>\n",
       "      <td>2</td>\n",
       "      <td>2012</td>\n",
       "      <td>Attempt to Murder</td>\n",
       "      <td>7641</td>\n",
       "      <td>3732</td>\n",
       "      <td>2892</td>\n",
       "      <td>583</td>\n",
       "      <td>146</td>\n",
       "      <td>9</td>\n",
       "      <td>163</td>\n",
       "      <td>172</td>\n",
       "      <td>15338</td>\n",
       "    </tr>\n",
       "    <tr>\n",
       "      <th>2</th>\n",
       "      <td>3</td>\n",
       "      <td>2012</td>\n",
       "      <td>Kidnapping /Abduction</td>\n",
       "      <td>15699</td>\n",
       "      <td>3077</td>\n",
       "      <td>1052</td>\n",
       "      <td>386</td>\n",
       "      <td>70</td>\n",
       "      <td>6</td>\n",
       "      <td>32</td>\n",
       "      <td>288</td>\n",
       "      <td>20610</td>\n",
       "    </tr>\n",
       "    <tr>\n",
       "      <th>3</th>\n",
       "      <td>4</td>\n",
       "      <td>2012</td>\n",
       "      <td>Dacoity</td>\n",
       "      <td>2715</td>\n",
       "      <td>1341</td>\n",
       "      <td>60</td>\n",
       "      <td>98</td>\n",
       "      <td>22</td>\n",
       "      <td>1</td>\n",
       "      <td>8</td>\n",
       "      <td>12</td>\n",
       "      <td>4257</td>\n",
       "    </tr>\n",
       "    <tr>\n",
       "      <th>4</th>\n",
       "      <td>5</td>\n",
       "      <td>2012</td>\n",
       "      <td>Robbery</td>\n",
       "      <td>12181</td>\n",
       "      <td>4320</td>\n",
       "      <td>134</td>\n",
       "      <td>160</td>\n",
       "      <td>177</td>\n",
       "      <td>5</td>\n",
       "      <td>26</td>\n",
       "      <td>78</td>\n",
       "      <td>17081</td>\n",
       "    </tr>\n",
       "  </tbody>\n",
       "</table>\n",
       "</div>"
      ],
      "text/plain": [
       "   _id  Year                Offence  Punjab  Sindh    KP  Balochistan  \\\n",
       "0    1  2012                 Murder    6128   3726  2958          711   \n",
       "1    2  2012      Attempt to Murder    7641   3732  2892          583   \n",
       "2    3  2012  Kidnapping /Abduction   15699   3077  1052          386   \n",
       "3    4  2012                Dacoity    2715   1341    60           98   \n",
       "4    5  2012                Robbery   12181   4320   134          160   \n",
       "\n",
       "   Islamabad  Railways  G.B  AJK  Pakistan  \n",
       "0        120         6  102   95     13846  \n",
       "1        146         9  163  172     15338  \n",
       "2         70         6   32  288     20610  \n",
       "3         22         1    8   12      4257  \n",
       "4        177         5   26   78     17081  "
      ]
     },
     "execution_count": 188,
     "metadata": {},
     "output_type": "execute_result"
    }
   ],
   "source": [
    "print(df.shape)\n",
    "df.head()"
   ]
  },
  {
   "cell_type": "code",
   "execution_count": 189,
   "metadata": {},
   "outputs": [
    {
     "data": {
      "text/html": [
       "<div>\n",
       "<style scoped>\n",
       "    .dataframe tbody tr th:only-of-type {\n",
       "        vertical-align: middle;\n",
       "    }\n",
       "\n",
       "    .dataframe tbody tr th {\n",
       "        vertical-align: top;\n",
       "    }\n",
       "\n",
       "    .dataframe thead th {\n",
       "        text-align: right;\n",
       "    }\n",
       "</style>\n",
       "<table border=\"1\" class=\"dataframe\">\n",
       "  <thead>\n",
       "    <tr style=\"text-align: right;\">\n",
       "      <th></th>\n",
       "      <th>Year</th>\n",
       "      <th>Offence</th>\n",
       "      <th>Punjab</th>\n",
       "      <th>Sindh</th>\n",
       "      <th>KP</th>\n",
       "      <th>Balochistan</th>\n",
       "      <th>Islamabad</th>\n",
       "      <th>Railways</th>\n",
       "      <th>G.B</th>\n",
       "      <th>AJK</th>\n",
       "      <th>Pakistan</th>\n",
       "    </tr>\n",
       "  </thead>\n",
       "  <tbody>\n",
       "    <tr>\n",
       "      <th>0</th>\n",
       "      <td>2012</td>\n",
       "      <td>Murder</td>\n",
       "      <td>6128</td>\n",
       "      <td>3726</td>\n",
       "      <td>2958</td>\n",
       "      <td>711</td>\n",
       "      <td>120</td>\n",
       "      <td>6</td>\n",
       "      <td>102</td>\n",
       "      <td>95</td>\n",
       "      <td>13846</td>\n",
       "    </tr>\n",
       "    <tr>\n",
       "      <th>1</th>\n",
       "      <td>2012</td>\n",
       "      <td>Attempt to Murder</td>\n",
       "      <td>7641</td>\n",
       "      <td>3732</td>\n",
       "      <td>2892</td>\n",
       "      <td>583</td>\n",
       "      <td>146</td>\n",
       "      <td>9</td>\n",
       "      <td>163</td>\n",
       "      <td>172</td>\n",
       "      <td>15338</td>\n",
       "    </tr>\n",
       "    <tr>\n",
       "      <th>2</th>\n",
       "      <td>2012</td>\n",
       "      <td>Kidnapping /Abduction</td>\n",
       "      <td>15699</td>\n",
       "      <td>3077</td>\n",
       "      <td>1052</td>\n",
       "      <td>386</td>\n",
       "      <td>70</td>\n",
       "      <td>6</td>\n",
       "      <td>32</td>\n",
       "      <td>288</td>\n",
       "      <td>20610</td>\n",
       "    </tr>\n",
       "    <tr>\n",
       "      <th>3</th>\n",
       "      <td>2012</td>\n",
       "      <td>Dacoity</td>\n",
       "      <td>2715</td>\n",
       "      <td>1341</td>\n",
       "      <td>60</td>\n",
       "      <td>98</td>\n",
       "      <td>22</td>\n",
       "      <td>1</td>\n",
       "      <td>8</td>\n",
       "      <td>12</td>\n",
       "      <td>4257</td>\n",
       "    </tr>\n",
       "    <tr>\n",
       "      <th>4</th>\n",
       "      <td>2012</td>\n",
       "      <td>Robbery</td>\n",
       "      <td>12181</td>\n",
       "      <td>4320</td>\n",
       "      <td>134</td>\n",
       "      <td>160</td>\n",
       "      <td>177</td>\n",
       "      <td>5</td>\n",
       "      <td>26</td>\n",
       "      <td>78</td>\n",
       "      <td>17081</td>\n",
       "    </tr>\n",
       "    <tr>\n",
       "      <th>5</th>\n",
       "      <td>2012</td>\n",
       "      <td>Burglary</td>\n",
       "      <td>14740</td>\n",
       "      <td>1680</td>\n",
       "      <td>500</td>\n",
       "      <td>117</td>\n",
       "      <td>245</td>\n",
       "      <td>0</td>\n",
       "      <td>101</td>\n",
       "      <td>255</td>\n",
       "      <td>17638</td>\n",
       "    </tr>\n",
       "    <tr>\n",
       "      <th>6</th>\n",
       "      <td>2012</td>\n",
       "      <td>Cattle Theft</td>\n",
       "      <td>8115</td>\n",
       "      <td>630</td>\n",
       "      <td>118</td>\n",
       "      <td>77</td>\n",
       "      <td>43</td>\n",
       "      <td>0</td>\n",
       "      <td>23</td>\n",
       "      <td>40</td>\n",
       "      <td>9046</td>\n",
       "    </tr>\n",
       "    <tr>\n",
       "      <th>7</th>\n",
       "      <td>2012</td>\n",
       "      <td>Other Theft</td>\n",
       "      <td>34719</td>\n",
       "      <td>2976</td>\n",
       "      <td>717</td>\n",
       "      <td>332</td>\n",
       "      <td>585</td>\n",
       "      <td>560</td>\n",
       "      <td>71</td>\n",
       "      <td>142</td>\n",
       "      <td>40102</td>\n",
       "    </tr>\n",
       "    <tr>\n",
       "      <th>8</th>\n",
       "      <td>2012</td>\n",
       "      <td>Others</td>\n",
       "      <td>292665</td>\n",
       "      <td>57206</td>\n",
       "      <td>139344</td>\n",
       "      <td>5745</td>\n",
       "      <td>5699</td>\n",
       "      <td>1528</td>\n",
       "      <td>1033</td>\n",
       "      <td>4509</td>\n",
       "      <td>507729</td>\n",
       "    </tr>\n",
       "    <tr>\n",
       "      <th>9</th>\n",
       "      <td>2012</td>\n",
       "      <td>TOTAL RECORDED CRIME</td>\n",
       "      <td>394603</td>\n",
       "      <td>78688</td>\n",
       "      <td>147775</td>\n",
       "      <td>8209</td>\n",
       "      <td>7107</td>\n",
       "      <td>2115</td>\n",
       "      <td>1559</td>\n",
       "      <td>5591</td>\n",
       "      <td>645647</td>\n",
       "    </tr>\n",
       "    <tr>\n",
       "      <th>10</th>\n",
       "      <td>2013</td>\n",
       "      <td>Murder</td>\n",
       "      <td>5969</td>\n",
       "      <td>3854</td>\n",
       "      <td>3163</td>\n",
       "      <td>639</td>\n",
       "      <td>131</td>\n",
       "      <td>4</td>\n",
       "      <td>73</td>\n",
       "      <td>104</td>\n",
       "      <td>13937</td>\n",
       "    </tr>\n",
       "    <tr>\n",
       "      <th>11</th>\n",
       "      <td>2013</td>\n",
       "      <td>Attempt to Murder</td>\n",
       "      <td>6935</td>\n",
       "      <td>3568</td>\n",
       "      <td>3146</td>\n",
       "      <td>482</td>\n",
       "      <td>203</td>\n",
       "      <td>7</td>\n",
       "      <td>96</td>\n",
       "      <td>211</td>\n",
       "      <td>14648</td>\n",
       "    </tr>\n",
       "    <tr>\n",
       "      <th>12</th>\n",
       "      <td>2013</td>\n",
       "      <td>Kidnapping /Abduction</td>\n",
       "      <td>14527</td>\n",
       "      <td>3149</td>\n",
       "      <td>1137</td>\n",
       "      <td>304</td>\n",
       "      <td>112</td>\n",
       "      <td>2</td>\n",
       "      <td>32</td>\n",
       "      <td>288</td>\n",
       "      <td>19551</td>\n",
       "    </tr>\n",
       "    <tr>\n",
       "      <th>13</th>\n",
       "      <td>2013</td>\n",
       "      <td>Dacoity</td>\n",
       "      <td>2479</td>\n",
       "      <td>1354</td>\n",
       "      <td>66</td>\n",
       "      <td>85</td>\n",
       "      <td>52</td>\n",
       "      <td>2</td>\n",
       "      <td>2</td>\n",
       "      <td>13</td>\n",
       "      <td>4053</td>\n",
       "    </tr>\n",
       "    <tr>\n",
       "      <th>14</th>\n",
       "      <td>2013</td>\n",
       "      <td>Robbery</td>\n",
       "      <td>12609</td>\n",
       "      <td>4045</td>\n",
       "      <td>145</td>\n",
       "      <td>189</td>\n",
       "      <td>288</td>\n",
       "      <td>4</td>\n",
       "      <td>16</td>\n",
       "      <td>67</td>\n",
       "      <td>17363</td>\n",
       "    </tr>\n",
       "    <tr>\n",
       "      <th>15</th>\n",
       "      <td>2013</td>\n",
       "      <td>Burglary</td>\n",
       "      <td>13912</td>\n",
       "      <td>1651</td>\n",
       "      <td>653</td>\n",
       "      <td>156</td>\n",
       "      <td>345</td>\n",
       "      <td>1</td>\n",
       "      <td>95</td>\n",
       "      <td>240</td>\n",
       "      <td>17053</td>\n",
       "    </tr>\n",
       "    <tr>\n",
       "      <th>16</th>\n",
       "      <td>2013</td>\n",
       "      <td>Cattle Theft</td>\n",
       "      <td>6968</td>\n",
       "      <td>477</td>\n",
       "      <td>127</td>\n",
       "      <td>68</td>\n",
       "      <td>39</td>\n",
       "      <td>0</td>\n",
       "      <td>24</td>\n",
       "      <td>40</td>\n",
       "      <td>7743</td>\n",
       "    </tr>\n",
       "    <tr>\n",
       "      <th>17</th>\n",
       "      <td>2013</td>\n",
       "      <td>Other Theft</td>\n",
       "      <td>32506</td>\n",
       "      <td>2837</td>\n",
       "      <td>826</td>\n",
       "      <td>312</td>\n",
       "      <td>667</td>\n",
       "      <td>386</td>\n",
       "      <td>85</td>\n",
       "      <td>132</td>\n",
       "      <td>37751</td>\n",
       "    </tr>\n",
       "    <tr>\n",
       "      <th>18</th>\n",
       "      <td>2013</td>\n",
       "      <td>Others</td>\n",
       "      <td>294503</td>\n",
       "      <td>54055</td>\n",
       "      <td>133466</td>\n",
       "      <td>6402</td>\n",
       "      <td>6257</td>\n",
       "      <td>1650</td>\n",
       "      <td>1172</td>\n",
       "      <td>4800</td>\n",
       "      <td>502305</td>\n",
       "    </tr>\n",
       "    <tr>\n",
       "      <th>19</th>\n",
       "      <td>2013</td>\n",
       "      <td>TOTAL RECORDED CRIME</td>\n",
       "      <td>390408</td>\n",
       "      <td>74990</td>\n",
       "      <td>142729</td>\n",
       "      <td>8637</td>\n",
       "      <td>8094</td>\n",
       "      <td>2056</td>\n",
       "      <td>1595</td>\n",
       "      <td>5895</td>\n",
       "      <td>634404</td>\n",
       "    </tr>\n",
       "    <tr>\n",
       "      <th>20</th>\n",
       "      <td>2014</td>\n",
       "      <td>Murder</td>\n",
       "      <td>5953</td>\n",
       "      <td>3225</td>\n",
       "      <td>3184</td>\n",
       "      <td>615</td>\n",
       "      <td>144</td>\n",
       "      <td>4</td>\n",
       "      <td>74</td>\n",
       "      <td>77</td>\n",
       "      <td>13276</td>\n",
       "    </tr>\n",
       "    <tr>\n",
       "      <th>21</th>\n",
       "      <td>2014</td>\n",
       "      <td>Attempt to Murder</td>\n",
       "      <td>7204</td>\n",
       "      <td>3017</td>\n",
       "      <td>3281</td>\n",
       "      <td>465</td>\n",
       "      <td>164</td>\n",
       "      <td>6</td>\n",
       "      <td>109</td>\n",
       "      <td>253</td>\n",
       "      <td>14499</td>\n",
       "    </tr>\n",
       "    <tr>\n",
       "      <th>22</th>\n",
       "      <td>2014</td>\n",
       "      <td>Kidnapping /Abduction</td>\n",
       "      <td>14247</td>\n",
       "      <td>2947</td>\n",
       "      <td>1277</td>\n",
       "      <td>268</td>\n",
       "      <td>98</td>\n",
       "      <td>5</td>\n",
       "      <td>25</td>\n",
       "      <td>244</td>\n",
       "      <td>19111</td>\n",
       "    </tr>\n",
       "    <tr>\n",
       "      <th>23</th>\n",
       "      <td>2014</td>\n",
       "      <td>Dacoity</td>\n",
       "      <td>1984</td>\n",
       "      <td>1320</td>\n",
       "      <td>77</td>\n",
       "      <td>67</td>\n",
       "      <td>56</td>\n",
       "      <td>1</td>\n",
       "      <td>7</td>\n",
       "      <td>4</td>\n",
       "      <td>3516</td>\n",
       "    </tr>\n",
       "    <tr>\n",
       "      <th>24</th>\n",
       "      <td>2014</td>\n",
       "      <td>Robbery</td>\n",
       "      <td>13808</td>\n",
       "      <td>3433</td>\n",
       "      <td>199</td>\n",
       "      <td>202</td>\n",
       "      <td>379</td>\n",
       "      <td>3</td>\n",
       "      <td>18</td>\n",
       "      <td>65</td>\n",
       "      <td>18107</td>\n",
       "    </tr>\n",
       "    <tr>\n",
       "      <th>25</th>\n",
       "      <td>2014</td>\n",
       "      <td>Burglary</td>\n",
       "      <td>14206</td>\n",
       "      <td>1387</td>\n",
       "      <td>778</td>\n",
       "      <td>143</td>\n",
       "      <td>384</td>\n",
       "      <td>0</td>\n",
       "      <td>49</td>\n",
       "      <td>203</td>\n",
       "      <td>17150</td>\n",
       "    </tr>\n",
       "    <tr>\n",
       "      <th>26</th>\n",
       "      <td>2014</td>\n",
       "      <td>Cattle Theft</td>\n",
       "      <td>6685</td>\n",
       "      <td>504</td>\n",
       "      <td>100</td>\n",
       "      <td>69</td>\n",
       "      <td>27</td>\n",
       "      <td>21</td>\n",
       "      <td>19</td>\n",
       "      <td>34</td>\n",
       "      <td>7459</td>\n",
       "    </tr>\n",
       "    <tr>\n",
       "      <th>27</th>\n",
       "      <td>2014</td>\n",
       "      <td>Other Theft</td>\n",
       "      <td>30178</td>\n",
       "      <td>2710</td>\n",
       "      <td>1053</td>\n",
       "      <td>258</td>\n",
       "      <td>580</td>\n",
       "      <td>325</td>\n",
       "      <td>66</td>\n",
       "      <td>118</td>\n",
       "      <td>35288</td>\n",
       "    </tr>\n",
       "    <tr>\n",
       "      <th>28</th>\n",
       "      <td>2014</td>\n",
       "      <td>Others</td>\n",
       "      <td>295353</td>\n",
       "      <td>55230</td>\n",
       "      <td>127715</td>\n",
       "      <td>6761</td>\n",
       "      <td>6564</td>\n",
       "      <td>1438</td>\n",
       "      <td>959</td>\n",
       "      <td>4701</td>\n",
       "      <td>498721</td>\n",
       "    </tr>\n",
       "    <tr>\n",
       "      <th>29</th>\n",
       "      <td>2014</td>\n",
       "      <td>TOTAL RECORDED CRIME</td>\n",
       "      <td>389618</td>\n",
       "      <td>73773</td>\n",
       "      <td>137664</td>\n",
       "      <td>8848</td>\n",
       "      <td>8396</td>\n",
       "      <td>1803</td>\n",
       "      <td>1326</td>\n",
       "      <td>5699</td>\n",
       "      <td>627127</td>\n",
       "    </tr>\n",
       "    <tr>\n",
       "      <th>30</th>\n",
       "      <td>2015</td>\n",
       "      <td>Murder</td>\n",
       "      <td>4422</td>\n",
       "      <td>1907</td>\n",
       "      <td>2496</td>\n",
       "      <td>412</td>\n",
       "      <td>116</td>\n",
       "      <td>3</td>\n",
       "      <td>54</td>\n",
       "      <td>76</td>\n",
       "      <td>9486</td>\n",
       "    </tr>\n",
       "    <tr>\n",
       "      <th>31</th>\n",
       "      <td>2015</td>\n",
       "      <td>Attempt to Murder</td>\n",
       "      <td>5234</td>\n",
       "      <td>2280</td>\n",
       "      <td>3008</td>\n",
       "      <td>356</td>\n",
       "      <td>131</td>\n",
       "      <td>7</td>\n",
       "      <td>98</td>\n",
       "      <td>222</td>\n",
       "      <td>11336</td>\n",
       "    </tr>\n",
       "    <tr>\n",
       "      <th>32</th>\n",
       "      <td>2015</td>\n",
       "      <td>Kidnapping /Abduction</td>\n",
       "      <td>13378</td>\n",
       "      <td>2963</td>\n",
       "      <td>1165</td>\n",
       "      <td>246</td>\n",
       "      <td>97</td>\n",
       "      <td>1</td>\n",
       "      <td>35</td>\n",
       "      <td>279</td>\n",
       "      <td>18164</td>\n",
       "    </tr>\n",
       "    <tr>\n",
       "      <th>33</th>\n",
       "      <td>2015</td>\n",
       "      <td>Dacoity</td>\n",
       "      <td>1318</td>\n",
       "      <td>858</td>\n",
       "      <td>50</td>\n",
       "      <td>66</td>\n",
       "      <td>26</td>\n",
       "      <td>1</td>\n",
       "      <td>7</td>\n",
       "      <td>3</td>\n",
       "      <td>2329</td>\n",
       "    </tr>\n",
       "    <tr>\n",
       "      <th>34</th>\n",
       "      <td>2015</td>\n",
       "      <td>Robbery</td>\n",
       "      <td>11871</td>\n",
       "      <td>2595</td>\n",
       "      <td>234</td>\n",
       "      <td>186</td>\n",
       "      <td>209</td>\n",
       "      <td>1</td>\n",
       "      <td>16</td>\n",
       "      <td>52</td>\n",
       "      <td>15164</td>\n",
       "    </tr>\n",
       "    <tr>\n",
       "      <th>35</th>\n",
       "      <td>2015</td>\n",
       "      <td>Burglary</td>\n",
       "      <td>12762</td>\n",
       "      <td>1323</td>\n",
       "      <td>878</td>\n",
       "      <td>162</td>\n",
       "      <td>330</td>\n",
       "      <td>0</td>\n",
       "      <td>56</td>\n",
       "      <td>225</td>\n",
       "      <td>15736</td>\n",
       "    </tr>\n",
       "    <tr>\n",
       "      <th>36</th>\n",
       "      <td>2015</td>\n",
       "      <td>Cattle Theft</td>\n",
       "      <td>5837</td>\n",
       "      <td>437</td>\n",
       "      <td>97</td>\n",
       "      <td>53</td>\n",
       "      <td>21</td>\n",
       "      <td>0</td>\n",
       "      <td>22</td>\n",
       "      <td>35</td>\n",
       "      <td>6502</td>\n",
       "    </tr>\n",
       "    <tr>\n",
       "      <th>37</th>\n",
       "      <td>2015</td>\n",
       "      <td>Other Theft</td>\n",
       "      <td>27452</td>\n",
       "      <td>2615</td>\n",
       "      <td>1178</td>\n",
       "      <td>248</td>\n",
       "      <td>512</td>\n",
       "      <td>266</td>\n",
       "      <td>60</td>\n",
       "      <td>69</td>\n",
       "      <td>32400</td>\n",
       "    </tr>\n",
       "    <tr>\n",
       "      <th>38</th>\n",
       "      <td>2015</td>\n",
       "      <td>Others</td>\n",
       "      <td>300781</td>\n",
       "      <td>57652</td>\n",
       "      <td>142994</td>\n",
       "      <td>7182</td>\n",
       "      <td>6340</td>\n",
       "      <td>1287</td>\n",
       "      <td>1143</td>\n",
       "      <td>4803</td>\n",
       "      <td>522182</td>\n",
       "    </tr>\n",
       "    <tr>\n",
       "      <th>39</th>\n",
       "      <td>2015</td>\n",
       "      <td>TOTAL RECORDED CRIME</td>\n",
       "      <td>383055</td>\n",
       "      <td>72630</td>\n",
       "      <td>152100</td>\n",
       "      <td>8911</td>\n",
       "      <td>7782</td>\n",
       "      <td>1566</td>\n",
       "      <td>1491</td>\n",
       "      <td>5764</td>\n",
       "      <td>633299</td>\n",
       "    </tr>\n",
       "    <tr>\n",
       "      <th>40</th>\n",
       "      <td>2016</td>\n",
       "      <td>Murder</td>\n",
       "      <td>3995</td>\n",
       "      <td>1445</td>\n",
       "      <td>2481</td>\n",
       "      <td>382</td>\n",
       "      <td>94</td>\n",
       "      <td>2</td>\n",
       "      <td>67</td>\n",
       "      <td>50</td>\n",
       "      <td>8516</td>\n",
       "    </tr>\n",
       "    <tr>\n",
       "      <th>41</th>\n",
       "      <td>2016</td>\n",
       "      <td>Attempt to Murder</td>\n",
       "      <td>4647</td>\n",
       "      <td>1955</td>\n",
       "      <td>2900</td>\n",
       "      <td>340</td>\n",
       "      <td>141</td>\n",
       "      <td>4</td>\n",
       "      <td>84</td>\n",
       "      <td>208</td>\n",
       "      <td>10279</td>\n",
       "    </tr>\n",
       "    <tr>\n",
       "      <th>42</th>\n",
       "      <td>2016</td>\n",
       "      <td>Kidnapping /Abduction</td>\n",
       "      <td>13349</td>\n",
       "      <td>2891</td>\n",
       "      <td>1214</td>\n",
       "      <td>215</td>\n",
       "      <td>81</td>\n",
       "      <td>4</td>\n",
       "      <td>32</td>\n",
       "      <td>271</td>\n",
       "      <td>18057</td>\n",
       "    </tr>\n",
       "    <tr>\n",
       "      <th>43</th>\n",
       "      <td>2016</td>\n",
       "      <td>Dacoity</td>\n",
       "      <td>825</td>\n",
       "      <td>707</td>\n",
       "      <td>58</td>\n",
       "      <td>30</td>\n",
       "      <td>12</td>\n",
       "      <td>0</td>\n",
       "      <td>4</td>\n",
       "      <td>0</td>\n",
       "      <td>1636</td>\n",
       "    </tr>\n",
       "    <tr>\n",
       "      <th>44</th>\n",
       "      <td>2016</td>\n",
       "      <td>Robbery</td>\n",
       "      <td>10078</td>\n",
       "      <td>2409</td>\n",
       "      <td>206</td>\n",
       "      <td>160</td>\n",
       "      <td>185</td>\n",
       "      <td>1</td>\n",
       "      <td>7</td>\n",
       "      <td>42</td>\n",
       "      <td>13088</td>\n",
       "    </tr>\n",
       "    <tr>\n",
       "      <th>45</th>\n",
       "      <td>2016</td>\n",
       "      <td>Burglary</td>\n",
       "      <td>11586</td>\n",
       "      <td>1472</td>\n",
       "      <td>840</td>\n",
       "      <td>154</td>\n",
       "      <td>297</td>\n",
       "      <td>0</td>\n",
       "      <td>59</td>\n",
       "      <td>164</td>\n",
       "      <td>14572</td>\n",
       "    </tr>\n",
       "    <tr>\n",
       "      <th>46</th>\n",
       "      <td>2016</td>\n",
       "      <td>Cattle Theft</td>\n",
       "      <td>5384</td>\n",
       "      <td>419</td>\n",
       "      <td>122</td>\n",
       "      <td>67</td>\n",
       "      <td>29</td>\n",
       "      <td>1</td>\n",
       "      <td>20</td>\n",
       "      <td>26</td>\n",
       "      <td>6068</td>\n",
       "    </tr>\n",
       "    <tr>\n",
       "      <th>47</th>\n",
       "      <td>2016</td>\n",
       "      <td>Other Theft</td>\n",
       "      <td>29674</td>\n",
       "      <td>2455</td>\n",
       "      <td>1093</td>\n",
       "      <td>249</td>\n",
       "      <td>489</td>\n",
       "      <td>245</td>\n",
       "      <td>48</td>\n",
       "      <td>67</td>\n",
       "      <td>34320</td>\n",
       "    </tr>\n",
       "    <tr>\n",
       "      <th>48</th>\n",
       "      <td>2016</td>\n",
       "      <td>Others</td>\n",
       "      <td>328610</td>\n",
       "      <td>58794</td>\n",
       "      <td>163403</td>\n",
       "      <td>7051</td>\n",
       "      <td>5689</td>\n",
       "      <td>1110</td>\n",
       "      <td>1226</td>\n",
       "      <td>5135</td>\n",
       "      <td>571018</td>\n",
       "    </tr>\n",
       "    <tr>\n",
       "      <th>49</th>\n",
       "      <td>2016</td>\n",
       "      <td>TOTAL RECORDED CRIME</td>\n",
       "      <td>408148</td>\n",
       "      <td>72547</td>\n",
       "      <td>172317</td>\n",
       "      <td>8648</td>\n",
       "      <td>7017</td>\n",
       "      <td>1367</td>\n",
       "      <td>1547</td>\n",
       "      <td>5963</td>\n",
       "      <td>677554</td>\n",
       "    </tr>\n",
       "    <tr>\n",
       "      <th>50</th>\n",
       "      <td>2017</td>\n",
       "      <td>Murder</td>\n",
       "      <td>3914</td>\n",
       "      <td>1409</td>\n",
       "      <td>2361</td>\n",
       "      <td>325</td>\n",
       "      <td>84</td>\n",
       "      <td>6</td>\n",
       "      <td>61</td>\n",
       "      <td>75</td>\n",
       "      <td>8235</td>\n",
       "    </tr>\n",
       "    <tr>\n",
       "      <th>51</th>\n",
       "      <td>2017</td>\n",
       "      <td>Attempt to Murder</td>\n",
       "      <td>4440</td>\n",
       "      <td>1644</td>\n",
       "      <td>2641</td>\n",
       "      <td>333</td>\n",
       "      <td>163</td>\n",
       "      <td>5</td>\n",
       "      <td>94</td>\n",
       "      <td>179</td>\n",
       "      <td>9499</td>\n",
       "    </tr>\n",
       "    <tr>\n",
       "      <th>52</th>\n",
       "      <td>2017</td>\n",
       "      <td>Kidnapping /Abduction</td>\n",
       "      <td>13558</td>\n",
       "      <td>2927</td>\n",
       "      <td>1197</td>\n",
       "      <td>248</td>\n",
       "      <td>99</td>\n",
       "      <td>7</td>\n",
       "      <td>48</td>\n",
       "      <td>279</td>\n",
       "      <td>18363</td>\n",
       "    </tr>\n",
       "    <tr>\n",
       "      <th>53</th>\n",
       "      <td>2017</td>\n",
       "      <td>Dacoity</td>\n",
       "      <td>602</td>\n",
       "      <td>572</td>\n",
       "      <td>45</td>\n",
       "      <td>38</td>\n",
       "      <td>16</td>\n",
       "      <td>1</td>\n",
       "      <td>4</td>\n",
       "      <td>2</td>\n",
       "      <td>1280</td>\n",
       "    </tr>\n",
       "    <tr>\n",
       "      <th>54</th>\n",
       "      <td>2017</td>\n",
       "      <td>Robbery</td>\n",
       "      <td>9385</td>\n",
       "      <td>2364</td>\n",
       "      <td>276</td>\n",
       "      <td>185</td>\n",
       "      <td>195</td>\n",
       "      <td>4</td>\n",
       "      <td>15</td>\n",
       "      <td>34</td>\n",
       "      <td>12458</td>\n",
       "    </tr>\n",
       "    <tr>\n",
       "      <th>55</th>\n",
       "      <td>2017</td>\n",
       "      <td>Burglary</td>\n",
       "      <td>11023</td>\n",
       "      <td>1344</td>\n",
       "      <td>798</td>\n",
       "      <td>135</td>\n",
       "      <td>253</td>\n",
       "      <td>1</td>\n",
       "      <td>63</td>\n",
       "      <td>216</td>\n",
       "      <td>13833</td>\n",
       "    </tr>\n",
       "    <tr>\n",
       "      <th>56</th>\n",
       "      <td>2017</td>\n",
       "      <td>Cattle Theft</td>\n",
       "      <td>4721</td>\n",
       "      <td>383</td>\n",
       "      <td>126</td>\n",
       "      <td>39</td>\n",
       "      <td>22</td>\n",
       "      <td>0</td>\n",
       "      <td>17</td>\n",
       "      <td>34</td>\n",
       "      <td>5342</td>\n",
       "    </tr>\n",
       "    <tr>\n",
       "      <th>57</th>\n",
       "      <td>2017</td>\n",
       "      <td>Other Theft</td>\n",
       "      <td>33053</td>\n",
       "      <td>2221</td>\n",
       "      <td>882</td>\n",
       "      <td>272</td>\n",
       "      <td>506</td>\n",
       "      <td>234</td>\n",
       "      <td>64</td>\n",
       "      <td>72</td>\n",
       "      <td>37304</td>\n",
       "    </tr>\n",
       "    <tr>\n",
       "      <th>58</th>\n",
       "      <td>2017</td>\n",
       "      <td>Others</td>\n",
       "      <td>325149</td>\n",
       "      <td>57409</td>\n",
       "      <td>172504</td>\n",
       "      <td>7917</td>\n",
       "      <td>5798</td>\n",
       "      <td>1270</td>\n",
       "      <td>1370</td>\n",
       "      <td>6194</td>\n",
       "      <td>577611</td>\n",
       "    </tr>\n",
       "    <tr>\n",
       "      <th>59</th>\n",
       "      <td>2017</td>\n",
       "      <td>TOTAL RECORDED CRIME</td>\n",
       "      <td>405845</td>\n",
       "      <td>70273</td>\n",
       "      <td>180830</td>\n",
       "      <td>9492</td>\n",
       "      <td>7136</td>\n",
       "      <td>1528</td>\n",
       "      <td>1736</td>\n",
       "      <td>7085</td>\n",
       "      <td>683925</td>\n",
       "    </tr>\n",
       "  </tbody>\n",
       "</table>\n",
       "</div>"
      ],
      "text/plain": [
       "    Year                Offence  Punjab  Sindh      KP  Balochistan  \\\n",
       "0   2012                 Murder    6128   3726    2958          711   \n",
       "1   2012      Attempt to Murder    7641   3732    2892          583   \n",
       "2   2012  Kidnapping /Abduction   15699   3077    1052          386   \n",
       "3   2012                Dacoity    2715   1341      60           98   \n",
       "4   2012                Robbery   12181   4320     134          160   \n",
       "5   2012               Burglary   14740   1680     500          117   \n",
       "6   2012           Cattle Theft    8115    630     118           77   \n",
       "7   2012            Other Theft   34719   2976     717          332   \n",
       "8   2012                 Others  292665  57206  139344         5745   \n",
       "9   2012   TOTAL RECORDED CRIME  394603  78688  147775         8209   \n",
       "10  2013                 Murder    5969   3854    3163          639   \n",
       "11  2013      Attempt to Murder    6935   3568    3146          482   \n",
       "12  2013  Kidnapping /Abduction   14527   3149    1137          304   \n",
       "13  2013                Dacoity    2479   1354      66           85   \n",
       "14  2013                Robbery   12609   4045     145          189   \n",
       "15  2013               Burglary   13912   1651     653          156   \n",
       "16  2013           Cattle Theft    6968    477     127           68   \n",
       "17  2013            Other Theft   32506   2837     826          312   \n",
       "18  2013                 Others  294503  54055  133466         6402   \n",
       "19  2013   TOTAL RECORDED CRIME  390408  74990  142729         8637   \n",
       "20  2014                 Murder    5953   3225    3184          615   \n",
       "21  2014      Attempt to Murder    7204   3017    3281          465   \n",
       "22  2014  Kidnapping /Abduction   14247   2947    1277          268   \n",
       "23  2014                Dacoity    1984   1320      77           67   \n",
       "24  2014                Robbery   13808   3433     199          202   \n",
       "25  2014               Burglary   14206   1387     778          143   \n",
       "26  2014           Cattle Theft    6685    504     100           69   \n",
       "27  2014            Other Theft   30178   2710    1053          258   \n",
       "28  2014                 Others  295353  55230  127715         6761   \n",
       "29  2014   TOTAL RECORDED CRIME  389618  73773  137664         8848   \n",
       "30  2015                 Murder    4422   1907    2496          412   \n",
       "31  2015      Attempt to Murder    5234   2280    3008          356   \n",
       "32  2015  Kidnapping /Abduction   13378   2963    1165          246   \n",
       "33  2015                Dacoity    1318    858      50           66   \n",
       "34  2015                Robbery   11871   2595     234          186   \n",
       "35  2015               Burglary   12762   1323     878          162   \n",
       "36  2015           Cattle Theft    5837    437      97           53   \n",
       "37  2015            Other Theft   27452   2615    1178          248   \n",
       "38  2015                 Others  300781  57652  142994         7182   \n",
       "39  2015   TOTAL RECORDED CRIME  383055  72630  152100         8911   \n",
       "40  2016                 Murder    3995   1445    2481          382   \n",
       "41  2016      Attempt to Murder    4647   1955    2900          340   \n",
       "42  2016  Kidnapping /Abduction   13349   2891    1214          215   \n",
       "43  2016                Dacoity     825    707      58           30   \n",
       "44  2016                Robbery   10078   2409     206          160   \n",
       "45  2016               Burglary   11586   1472     840          154   \n",
       "46  2016           Cattle Theft    5384    419     122           67   \n",
       "47  2016            Other Theft   29674   2455    1093          249   \n",
       "48  2016                 Others  328610  58794  163403         7051   \n",
       "49  2016   TOTAL RECORDED CRIME  408148  72547  172317         8648   \n",
       "50  2017                 Murder    3914   1409    2361          325   \n",
       "51  2017      Attempt to Murder    4440   1644    2641          333   \n",
       "52  2017  Kidnapping /Abduction   13558   2927    1197          248   \n",
       "53  2017                Dacoity     602    572      45           38   \n",
       "54  2017                Robbery    9385   2364     276          185   \n",
       "55  2017               Burglary   11023   1344     798          135   \n",
       "56  2017           Cattle Theft    4721    383     126           39   \n",
       "57  2017            Other Theft   33053   2221     882          272   \n",
       "58  2017                 Others  325149  57409  172504         7917   \n",
       "59  2017   TOTAL RECORDED CRIME  405845  70273  180830         9492   \n",
       "\n",
       "    Islamabad  Railways   G.B   AJK  Pakistan  \n",
       "0         120         6   102    95     13846  \n",
       "1         146         9   163   172     15338  \n",
       "2          70         6    32   288     20610  \n",
       "3          22         1     8    12      4257  \n",
       "4         177         5    26    78     17081  \n",
       "5         245         0   101   255     17638  \n",
       "6          43         0    23    40      9046  \n",
       "7         585       560    71   142     40102  \n",
       "8        5699      1528  1033  4509    507729  \n",
       "9        7107      2115  1559  5591    645647  \n",
       "10        131         4    73   104     13937  \n",
       "11        203         7    96   211     14648  \n",
       "12        112         2    32   288     19551  \n",
       "13         52         2     2    13      4053  \n",
       "14        288         4    16    67     17363  \n",
       "15        345         1    95   240     17053  \n",
       "16         39         0    24    40      7743  \n",
       "17        667       386    85   132     37751  \n",
       "18       6257      1650  1172  4800    502305  \n",
       "19       8094      2056  1595  5895    634404  \n",
       "20        144         4    74    77     13276  \n",
       "21        164         6   109   253     14499  \n",
       "22         98         5    25   244     19111  \n",
       "23         56         1     7     4      3516  \n",
       "24        379         3    18    65     18107  \n",
       "25        384         0    49   203     17150  \n",
       "26         27        21    19    34      7459  \n",
       "27        580       325    66   118     35288  \n",
       "28       6564      1438   959  4701    498721  \n",
       "29       8396      1803  1326  5699    627127  \n",
       "30        116         3    54    76      9486  \n",
       "31        131         7    98   222     11336  \n",
       "32         97         1    35   279     18164  \n",
       "33         26         1     7     3      2329  \n",
       "34        209         1    16    52     15164  \n",
       "35        330         0    56   225     15736  \n",
       "36         21         0    22    35      6502  \n",
       "37        512       266    60    69     32400  \n",
       "38       6340      1287  1143  4803    522182  \n",
       "39       7782      1566  1491  5764    633299  \n",
       "40         94         2    67    50      8516  \n",
       "41        141         4    84   208     10279  \n",
       "42         81         4    32   271     18057  \n",
       "43         12         0     4     0      1636  \n",
       "44        185         1     7    42     13088  \n",
       "45        297         0    59   164     14572  \n",
       "46         29         1    20    26      6068  \n",
       "47        489       245    48    67     34320  \n",
       "48       5689      1110  1226  5135    571018  \n",
       "49       7017      1367  1547  5963    677554  \n",
       "50         84         6    61    75      8235  \n",
       "51        163         5    94   179      9499  \n",
       "52         99         7    48   279     18363  \n",
       "53         16         1     4     2      1280  \n",
       "54        195         4    15    34     12458  \n",
       "55        253         1    63   216     13833  \n",
       "56         22         0    17    34      5342  \n",
       "57        506       234    64    72     37304  \n",
       "58       5798      1270  1370  6194    577611  \n",
       "59       7136      1528  1736  7085    683925  "
      ]
     },
     "execution_count": 189,
     "metadata": {},
     "output_type": "execute_result"
    }
   ],
   "source": [
    "# Dropping _id, and any row with \"Others\", and \"Other Theft\" as they dont really help\r\n",
    "df2=df.drop('_id', axis=1)\r\n",
    "#df2=df.drop(df.loc[((df['Offence'] == 'Others') | (df['Offence'] == 'Other Theft'))].index, axis=0)\r\n",
    "df2"
   ]
  },
  {
   "cell_type": "markdown",
   "metadata": {},
   "source": [
    "## Massaging data into a longer format and creating multiple dataframes for easier call-backs"
   ]
  },
  {
   "cell_type": "code",
   "execution_count": 190,
   "metadata": {},
   "outputs": [],
   "source": [
    "df_long=pd.melt(df2, id_vars=['Year', 'Offence'], var_name='Province' ) # Creates the long formatting\n",
    "df_long=df_long.drop(df_long.loc[df_long['Province']== 'Pakistan'].index,axis=0) # Dropping Pakistan as a whole"
   ]
  },
  {
   "cell_type": "code",
   "execution_count": 191,
   "metadata": {},
   "outputs": [],
   "source": [
    "totals=df_long.loc[df_long['Offence']== 'TOTAL RECORDED CRIME']"
   ]
  },
  {
   "cell_type": "code",
   "execution_count": 192,
   "metadata": {},
   "outputs": [
    {
     "data": {
      "text/html": [
       "<div>\n",
       "<style scoped>\n",
       "    .dataframe tbody tr th:only-of-type {\n",
       "        vertical-align: middle;\n",
       "    }\n",
       "\n",
       "    .dataframe tbody tr th {\n",
       "        vertical-align: top;\n",
       "    }\n",
       "\n",
       "    .dataframe thead th {\n",
       "        text-align: right;\n",
       "    }\n",
       "</style>\n",
       "<table border=\"1\" class=\"dataframe\">\n",
       "  <thead>\n",
       "    <tr style=\"text-align: right;\">\n",
       "      <th></th>\n",
       "      <th>Year</th>\n",
       "      <th>Offence</th>\n",
       "      <th>Province</th>\n",
       "      <th>value</th>\n",
       "    </tr>\n",
       "  </thead>\n",
       "  <tbody>\n",
       "    <tr>\n",
       "      <th>0</th>\n",
       "      <td>2012</td>\n",
       "      <td>Murder</td>\n",
       "      <td>Punjab</td>\n",
       "      <td>6128</td>\n",
       "    </tr>\n",
       "    <tr>\n",
       "      <th>1</th>\n",
       "      <td>2012</td>\n",
       "      <td>Attempt to Murder</td>\n",
       "      <td>Punjab</td>\n",
       "      <td>7641</td>\n",
       "    </tr>\n",
       "    <tr>\n",
       "      <th>2</th>\n",
       "      <td>2012</td>\n",
       "      <td>Kidnapping /Abduction</td>\n",
       "      <td>Punjab</td>\n",
       "      <td>15699</td>\n",
       "    </tr>\n",
       "    <tr>\n",
       "      <th>3</th>\n",
       "      <td>2012</td>\n",
       "      <td>Dacoity</td>\n",
       "      <td>Punjab</td>\n",
       "      <td>2715</td>\n",
       "    </tr>\n",
       "    <tr>\n",
       "      <th>4</th>\n",
       "      <td>2012</td>\n",
       "      <td>Robbery</td>\n",
       "      <td>Punjab</td>\n",
       "      <td>12181</td>\n",
       "    </tr>\n",
       "  </tbody>\n",
       "</table>\n",
       "</div>"
      ],
      "text/plain": [
       "   Year                Offence Province  value\n",
       "0  2012                 Murder   Punjab   6128\n",
       "1  2012      Attempt to Murder   Punjab   7641\n",
       "2  2012  Kidnapping /Abduction   Punjab  15699\n",
       "3  2012                Dacoity   Punjab   2715\n",
       "4  2012                Robbery   Punjab  12181"
      ]
     },
     "execution_count": 192,
     "metadata": {},
     "output_type": "execute_result"
    }
   ],
   "source": [
    "df_long.head()"
   ]
  },
  {
   "cell_type": "code",
   "execution_count": 193,
   "metadata": {},
   "outputs": [],
   "source": [
    "df_long=df_long.drop(df_long.loc[df_long['Offence']== 'TOTAL RECORDED CRIME'].index,axis=0)\r\n",
    "df_long=df_long.drop(df_long.loc[((df_long['Offence'] == 'Others'))].index, axis=0)"
   ]
  },
  {
   "cell_type": "code",
   "execution_count": 194,
   "metadata": {},
   "outputs": [
    {
     "data": {
      "text/plain": [
       "Int64Index([], dtype='int64')"
      ]
     },
     "execution_count": 194,
     "metadata": {},
     "output_type": "execute_result"
    }
   ],
   "source": [
    "df_long.loc[((df_long['Offence'] == 'Others'))].index"
   ]
  },
  {
   "cell_type": "markdown",
   "metadata": {},
   "source": [
    "## Crime Analysis"
   ]
  },
  {
   "cell_type": "code",
   "execution_count": 195,
   "metadata": {},
   "outputs": [
    {
     "data": {
      "application/vnd.plotly.v1+json": {
       "config": {
        "plotlyServerURL": "https://plot.ly"
       },
       "data": [
        {
         "alignmentgroup": "True",
         "hovertemplate": "Province=%{x}<br>Crime Total=%{y}<br>color=%{marker.color}<extra></extra>",
         "legendgroup": "",
         "marker": {
          "color": [
           288,
           711,
           163,
           667,
           3281,
           34719,
           560,
           4320
          ],
          "coloraxis": "coloraxis"
         },
         "name": "",
         "offsetgroup": "",
         "orientation": "v",
         "showlegend": false,
         "textposition": "auto",
         "type": "bar",
         "x": [
          "AJK",
          "Balochistan",
          "G.B",
          "Islamabad",
          "KP",
          "Punjab",
          "Railways",
          "Sindh"
         ],
         "xaxis": "x",
         "y": [
          5855,
          11687,
          2351,
          9185,
          53989,
          534616,
          2152,
          102555
         ],
         "yaxis": "y"
        }
       ],
       "layout": {
        "barmode": "relative",
        "coloraxis": {
         "colorbar": {
          "title": {
           "text": "color"
          }
         },
         "colorscale": [
          [
           0,
           "rgb(3, 35, 51)"
          ],
          [
           0.09090909090909091,
           "rgb(13, 48, 100)"
          ],
          [
           0.18181818181818182,
           "rgb(53, 50, 155)"
          ],
          [
           0.2727272727272727,
           "rgb(93, 62, 153)"
          ],
          [
           0.36363636363636365,
           "rgb(126, 77, 143)"
          ],
          [
           0.45454545454545453,
           "rgb(158, 89, 135)"
          ],
          [
           0.5454545454545454,
           "rgb(193, 100, 121)"
          ],
          [
           0.6363636363636364,
           "rgb(225, 113, 97)"
          ],
          [
           0.7272727272727273,
           "rgb(246, 139, 69)"
          ],
          [
           0.8181818181818182,
           "rgb(251, 173, 60)"
          ],
          [
           0.9090909090909091,
           "rgb(246, 211, 70)"
          ],
          [
           1,
           "rgb(231, 250, 90)"
          ]
         ]
        },
        "legend": {
         "tracegroupgap": 0
        },
        "template": {
         "data": {
          "bar": [
           {
            "error_x": {
             "color": "#2a3f5f"
            },
            "error_y": {
             "color": "#2a3f5f"
            },
            "marker": {
             "line": {
              "color": "#E5ECF6",
              "width": 0.5
             }
            },
            "type": "bar"
           }
          ],
          "barpolar": [
           {
            "marker": {
             "line": {
              "color": "#E5ECF6",
              "width": 0.5
             }
            },
            "type": "barpolar"
           }
          ],
          "carpet": [
           {
            "aaxis": {
             "endlinecolor": "#2a3f5f",
             "gridcolor": "white",
             "linecolor": "white",
             "minorgridcolor": "white",
             "startlinecolor": "#2a3f5f"
            },
            "baxis": {
             "endlinecolor": "#2a3f5f",
             "gridcolor": "white",
             "linecolor": "white",
             "minorgridcolor": "white",
             "startlinecolor": "#2a3f5f"
            },
            "type": "carpet"
           }
          ],
          "choropleth": [
           {
            "colorbar": {
             "outlinewidth": 0,
             "ticks": ""
            },
            "type": "choropleth"
           }
          ],
          "contour": [
           {
            "colorbar": {
             "outlinewidth": 0,
             "ticks": ""
            },
            "colorscale": [
             [
              0,
              "#0d0887"
             ],
             [
              0.1111111111111111,
              "#46039f"
             ],
             [
              0.2222222222222222,
              "#7201a8"
             ],
             [
              0.3333333333333333,
              "#9c179e"
             ],
             [
              0.4444444444444444,
              "#bd3786"
             ],
             [
              0.5555555555555556,
              "#d8576b"
             ],
             [
              0.6666666666666666,
              "#ed7953"
             ],
             [
              0.7777777777777778,
              "#fb9f3a"
             ],
             [
              0.8888888888888888,
              "#fdca26"
             ],
             [
              1,
              "#f0f921"
             ]
            ],
            "type": "contour"
           }
          ],
          "contourcarpet": [
           {
            "colorbar": {
             "outlinewidth": 0,
             "ticks": ""
            },
            "type": "contourcarpet"
           }
          ],
          "heatmap": [
           {
            "colorbar": {
             "outlinewidth": 0,
             "ticks": ""
            },
            "colorscale": [
             [
              0,
              "#0d0887"
             ],
             [
              0.1111111111111111,
              "#46039f"
             ],
             [
              0.2222222222222222,
              "#7201a8"
             ],
             [
              0.3333333333333333,
              "#9c179e"
             ],
             [
              0.4444444444444444,
              "#bd3786"
             ],
             [
              0.5555555555555556,
              "#d8576b"
             ],
             [
              0.6666666666666666,
              "#ed7953"
             ],
             [
              0.7777777777777778,
              "#fb9f3a"
             ],
             [
              0.8888888888888888,
              "#fdca26"
             ],
             [
              1,
              "#f0f921"
             ]
            ],
            "type": "heatmap"
           }
          ],
          "heatmapgl": [
           {
            "colorbar": {
             "outlinewidth": 0,
             "ticks": ""
            },
            "colorscale": [
             [
              0,
              "#0d0887"
             ],
             [
              0.1111111111111111,
              "#46039f"
             ],
             [
              0.2222222222222222,
              "#7201a8"
             ],
             [
              0.3333333333333333,
              "#9c179e"
             ],
             [
              0.4444444444444444,
              "#bd3786"
             ],
             [
              0.5555555555555556,
              "#d8576b"
             ],
             [
              0.6666666666666666,
              "#ed7953"
             ],
             [
              0.7777777777777778,
              "#fb9f3a"
             ],
             [
              0.8888888888888888,
              "#fdca26"
             ],
             [
              1,
              "#f0f921"
             ]
            ],
            "type": "heatmapgl"
           }
          ],
          "histogram": [
           {
            "marker": {
             "colorbar": {
              "outlinewidth": 0,
              "ticks": ""
             }
            },
            "type": "histogram"
           }
          ],
          "histogram2d": [
           {
            "colorbar": {
             "outlinewidth": 0,
             "ticks": ""
            },
            "colorscale": [
             [
              0,
              "#0d0887"
             ],
             [
              0.1111111111111111,
              "#46039f"
             ],
             [
              0.2222222222222222,
              "#7201a8"
             ],
             [
              0.3333333333333333,
              "#9c179e"
             ],
             [
              0.4444444444444444,
              "#bd3786"
             ],
             [
              0.5555555555555556,
              "#d8576b"
             ],
             [
              0.6666666666666666,
              "#ed7953"
             ],
             [
              0.7777777777777778,
              "#fb9f3a"
             ],
             [
              0.8888888888888888,
              "#fdca26"
             ],
             [
              1,
              "#f0f921"
             ]
            ],
            "type": "histogram2d"
           }
          ],
          "histogram2dcontour": [
           {
            "colorbar": {
             "outlinewidth": 0,
             "ticks": ""
            },
            "colorscale": [
             [
              0,
              "#0d0887"
             ],
             [
              0.1111111111111111,
              "#46039f"
             ],
             [
              0.2222222222222222,
              "#7201a8"
             ],
             [
              0.3333333333333333,
              "#9c179e"
             ],
             [
              0.4444444444444444,
              "#bd3786"
             ],
             [
              0.5555555555555556,
              "#d8576b"
             ],
             [
              0.6666666666666666,
              "#ed7953"
             ],
             [
              0.7777777777777778,
              "#fb9f3a"
             ],
             [
              0.8888888888888888,
              "#fdca26"
             ],
             [
              1,
              "#f0f921"
             ]
            ],
            "type": "histogram2dcontour"
           }
          ],
          "mesh3d": [
           {
            "colorbar": {
             "outlinewidth": 0,
             "ticks": ""
            },
            "type": "mesh3d"
           }
          ],
          "parcoords": [
           {
            "line": {
             "colorbar": {
              "outlinewidth": 0,
              "ticks": ""
             }
            },
            "type": "parcoords"
           }
          ],
          "pie": [
           {
            "automargin": true,
            "type": "pie"
           }
          ],
          "scatter": [
           {
            "marker": {
             "colorbar": {
              "outlinewidth": 0,
              "ticks": ""
             }
            },
            "type": "scatter"
           }
          ],
          "scatter3d": [
           {
            "line": {
             "colorbar": {
              "outlinewidth": 0,
              "ticks": ""
             }
            },
            "marker": {
             "colorbar": {
              "outlinewidth": 0,
              "ticks": ""
             }
            },
            "type": "scatter3d"
           }
          ],
          "scattercarpet": [
           {
            "marker": {
             "colorbar": {
              "outlinewidth": 0,
              "ticks": ""
             }
            },
            "type": "scattercarpet"
           }
          ],
          "scattergeo": [
           {
            "marker": {
             "colorbar": {
              "outlinewidth": 0,
              "ticks": ""
             }
            },
            "type": "scattergeo"
           }
          ],
          "scattergl": [
           {
            "marker": {
             "colorbar": {
              "outlinewidth": 0,
              "ticks": ""
             }
            },
            "type": "scattergl"
           }
          ],
          "scattermapbox": [
           {
            "marker": {
             "colorbar": {
              "outlinewidth": 0,
              "ticks": ""
             }
            },
            "type": "scattermapbox"
           }
          ],
          "scatterpolar": [
           {
            "marker": {
             "colorbar": {
              "outlinewidth": 0,
              "ticks": ""
             }
            },
            "type": "scatterpolar"
           }
          ],
          "scatterpolargl": [
           {
            "marker": {
             "colorbar": {
              "outlinewidth": 0,
              "ticks": ""
             }
            },
            "type": "scatterpolargl"
           }
          ],
          "scatterternary": [
           {
            "marker": {
             "colorbar": {
              "outlinewidth": 0,
              "ticks": ""
             }
            },
            "type": "scatterternary"
           }
          ],
          "surface": [
           {
            "colorbar": {
             "outlinewidth": 0,
             "ticks": ""
            },
            "colorscale": [
             [
              0,
              "#0d0887"
             ],
             [
              0.1111111111111111,
              "#46039f"
             ],
             [
              0.2222222222222222,
              "#7201a8"
             ],
             [
              0.3333333333333333,
              "#9c179e"
             ],
             [
              0.4444444444444444,
              "#bd3786"
             ],
             [
              0.5555555555555556,
              "#d8576b"
             ],
             [
              0.6666666666666666,
              "#ed7953"
             ],
             [
              0.7777777777777778,
              "#fb9f3a"
             ],
             [
              0.8888888888888888,
              "#fdca26"
             ],
             [
              1,
              "#f0f921"
             ]
            ],
            "type": "surface"
           }
          ],
          "table": [
           {
            "cells": {
             "fill": {
              "color": "#EBF0F8"
             },
             "line": {
              "color": "white"
             }
            },
            "header": {
             "fill": {
              "color": "#C8D4E3"
             },
             "line": {
              "color": "white"
             }
            },
            "type": "table"
           }
          ]
         },
         "layout": {
          "annotationdefaults": {
           "arrowcolor": "#2a3f5f",
           "arrowhead": 0,
           "arrowwidth": 1
          },
          "autotypenumbers": "strict",
          "coloraxis": {
           "colorbar": {
            "outlinewidth": 0,
            "ticks": ""
           }
          },
          "colorscale": {
           "diverging": [
            [
             0,
             "#8e0152"
            ],
            [
             0.1,
             "#c51b7d"
            ],
            [
             0.2,
             "#de77ae"
            ],
            [
             0.3,
             "#f1b6da"
            ],
            [
             0.4,
             "#fde0ef"
            ],
            [
             0.5,
             "#f7f7f7"
            ],
            [
             0.6,
             "#e6f5d0"
            ],
            [
             0.7,
             "#b8e186"
            ],
            [
             0.8,
             "#7fbc41"
            ],
            [
             0.9,
             "#4d9221"
            ],
            [
             1,
             "#276419"
            ]
           ],
           "sequential": [
            [
             0,
             "#0d0887"
            ],
            [
             0.1111111111111111,
             "#46039f"
            ],
            [
             0.2222222222222222,
             "#7201a8"
            ],
            [
             0.3333333333333333,
             "#9c179e"
            ],
            [
             0.4444444444444444,
             "#bd3786"
            ],
            [
             0.5555555555555556,
             "#d8576b"
            ],
            [
             0.6666666666666666,
             "#ed7953"
            ],
            [
             0.7777777777777778,
             "#fb9f3a"
            ],
            [
             0.8888888888888888,
             "#fdca26"
            ],
            [
             1,
             "#f0f921"
            ]
           ],
           "sequentialminus": [
            [
             0,
             "#0d0887"
            ],
            [
             0.1111111111111111,
             "#46039f"
            ],
            [
             0.2222222222222222,
             "#7201a8"
            ],
            [
             0.3333333333333333,
             "#9c179e"
            ],
            [
             0.4444444444444444,
             "#bd3786"
            ],
            [
             0.5555555555555556,
             "#d8576b"
            ],
            [
             0.6666666666666666,
             "#ed7953"
            ],
            [
             0.7777777777777778,
             "#fb9f3a"
            ],
            [
             0.8888888888888888,
             "#fdca26"
            ],
            [
             1,
             "#f0f921"
            ]
           ]
          },
          "colorway": [
           "#636efa",
           "#EF553B",
           "#00cc96",
           "#ab63fa",
           "#FFA15A",
           "#19d3f3",
           "#FF6692",
           "#B6E880",
           "#FF97FF",
           "#FECB52"
          ],
          "font": {
           "color": "#2a3f5f"
          },
          "geo": {
           "bgcolor": "white",
           "lakecolor": "white",
           "landcolor": "#E5ECF6",
           "showlakes": true,
           "showland": true,
           "subunitcolor": "white"
          },
          "hoverlabel": {
           "align": "left"
          },
          "hovermode": "closest",
          "mapbox": {
           "style": "light"
          },
          "paper_bgcolor": "white",
          "plot_bgcolor": "#E5ECF6",
          "polar": {
           "angularaxis": {
            "gridcolor": "white",
            "linecolor": "white",
            "ticks": ""
           },
           "bgcolor": "#E5ECF6",
           "radialaxis": {
            "gridcolor": "white",
            "linecolor": "white",
            "ticks": ""
           }
          },
          "scene": {
           "xaxis": {
            "backgroundcolor": "#E5ECF6",
            "gridcolor": "white",
            "gridwidth": 2,
            "linecolor": "white",
            "showbackground": true,
            "ticks": "",
            "zerolinecolor": "white"
           },
           "yaxis": {
            "backgroundcolor": "#E5ECF6",
            "gridcolor": "white",
            "gridwidth": 2,
            "linecolor": "white",
            "showbackground": true,
            "ticks": "",
            "zerolinecolor": "white"
           },
           "zaxis": {
            "backgroundcolor": "#E5ECF6",
            "gridcolor": "white",
            "gridwidth": 2,
            "linecolor": "white",
            "showbackground": true,
            "ticks": "",
            "zerolinecolor": "white"
           }
          },
          "shapedefaults": {
           "line": {
            "color": "#2a3f5f"
           }
          },
          "ternary": {
           "aaxis": {
            "gridcolor": "white",
            "linecolor": "white",
            "ticks": ""
           },
           "baxis": {
            "gridcolor": "white",
            "linecolor": "white",
            "ticks": ""
           },
           "bgcolor": "#E5ECF6",
           "caxis": {
            "gridcolor": "white",
            "linecolor": "white",
            "ticks": ""
           }
          },
          "title": {
           "x": 0.05
          },
          "xaxis": {
           "automargin": true,
           "gridcolor": "white",
           "linecolor": "white",
           "ticks": "",
           "title": {
            "standoff": 15
           },
           "zerolinecolor": "white",
           "zerolinewidth": 2
          },
          "yaxis": {
           "automargin": true,
           "gridcolor": "white",
           "linecolor": "white",
           "ticks": "",
           "title": {
            "standoff": 15
           },
           "zerolinecolor": "white",
           "zerolinewidth": 2
          }
         }
        },
        "title": {
         "text": "<b>Total Crimes by Province 2012-2017</b><br>Most Crimes:Punjab 2.37Mil<br>Least Crimes:G.B 9,254 "
        },
        "xaxis": {
         "anchor": "y",
         "domain": [
          0,
          1
         ],
         "title": {
          "text": "Province"
         }
        },
        "yaxis": {
         "anchor": "x",
         "domain": [
          0,
          1
         ],
         "title": {
          "text": "Crime Total"
         }
        }
       }
      }
     },
     "metadata": {},
     "output_type": "display_data"
    }
   ],
   "source": [
    "crime_by_prov=df_long.groupby('Province')['value'].sum()\r\n",
    "max=df_long.groupby('Province')['value'].max()\r\n",
    "px.bar( crime_by_prov, title='<b>Total Crimes by Province 2012-2017</b><br>Most Crimes:Punjab 2.37Mil<br>Least Crimes:G.B 9,254 ', labels={'_value':'Crime Total'}, \r\n",
    "            color= max, color_continuous_scale='Thermal')"
   ]
  },
  {
   "cell_type": "markdown",
   "metadata": {},
   "source": [
    "## TODO \r\n",
    "### Subplots of crimes, by year for each province\r\n",
    "\r\n",
    "This would need crimes, by province, by year"
   ]
  },
  {
   "cell_type": "code",
   "execution_count": 196,
   "metadata": {},
   "outputs": [],
   "source": [
    "# Libraries for Plotly Subplots\r\n",
    "from plotly.subplots import make_subplots\r\n",
    "import plotly.graph_objects as go"
   ]
  },
  {
   "cell_type": "code",
   "execution_count": 197,
   "metadata": {},
   "outputs": [
    {
     "data": {
      "text/plain": [
       "Index(['_id', 'Year', 'Offence', 'Punjab', 'Sindh', 'KP', 'Balochistan',\n",
       "       'Islamabad', 'Railways', 'G.B', 'AJK', 'Pakistan'],\n",
       "      dtype='object')"
      ]
     },
     "execution_count": 197,
     "metadata": {},
     "output_type": "execute_result"
    }
   ],
   "source": [
    "df.columns"
   ]
  },
  {
   "cell_type": "markdown",
   "metadata": {},
   "source": [
    "Setting up individual df for plots. Possibly turn this into a function?"
   ]
  },
  {
   "cell_type": "code",
   "execution_count": 198,
   "metadata": {},
   "outputs": [],
   "source": [
    "punjab_crime= df_long.loc[df_long['Province']=='Punjab'].groupby('Offence')['value'].sum()\r\n",
    "sindh_crime=df_long.loc[df_long['Province']=='Sindh'].groupby('Offence')['value'].sum()\r\n",
    "kp_crime=df_long.loc[df_long['Province']=='KP'].groupby('Offence')['value'].sum()\r\n",
    "balochistan_crime=df_long.loc[df_long['Province']=='Balochistan'].groupby('Offence')['value'].sum()\r\n",
    "islamabad_crime=df_long.loc[df_long['Province']=='Islamabad'].groupby('Offence')['value'].sum()\r\n",
    "railways_crime=df_long.loc[df_long['Province']=='Railways'].groupby('Offence')['value'].sum()\r\n",
    "gb_crime=df_long.loc[df_long['Province']=='G.B'].groupby('Offence')['value'].sum()\r\n",
    "ajk_crime=df_long.loc[df_long['Province']=='AJK'].groupby('Offence')['value'].sum()\r\n"
   ]
  },
  {
   "cell_type": "code",
   "execution_count": 199,
   "metadata": {},
   "outputs": [
    {
     "data": {
      "application/vnd.plotly.v1+json": {
       "config": {
        "plotlyServerURL": "https://plot.ly"
       },
       "data": [
        {
         "type": "bar",
         "x": [
          "Attempt to Murder",
          "Burglary",
          "Cattle Theft",
          "Dacoity",
          "Kidnapping /Abduction",
          "Murder",
          "Other Theft",
          "Robbery"
         ],
         "xaxis": "x",
         "y": [
          36101,
          78229,
          37710,
          9923,
          84758,
          30381,
          187582,
          69932
         ],
         "yaxis": "y"
        },
        {
         "type": "bar",
         "x": [
          "Attempt to Murder",
          "Burglary",
          "Cattle Theft",
          "Dacoity",
          "Kidnapping /Abduction",
          "Murder",
          "Other Theft",
          "Robbery"
         ],
         "xaxis": "x2",
         "y": [
          36101,
          78229,
          37710,
          9923,
          84758,
          30381,
          187582,
          69932
         ],
         "yaxis": "y2"
        },
        {
         "type": "bar",
         "x": [
          "Attempt to Murder",
          "Burglary",
          "Cattle Theft",
          "Dacoity",
          "Kidnapping /Abduction",
          "Murder",
          "Other Theft",
          "Robbery"
         ],
         "xaxis": "x5",
         "y": [
          36101,
          78229,
          37710,
          9923,
          84758,
          30381,
          187582,
          69932
         ],
         "yaxis": "y5"
        },
        {
         "type": "bar",
         "x": [
          "Attempt to Murder",
          "Burglary",
          "Cattle Theft",
          "Dacoity",
          "Kidnapping /Abduction",
          "Murder",
          "Other Theft",
          "Robbery"
         ],
         "xaxis": "x6",
         "y": [
          36101,
          78229,
          37710,
          9923,
          84758,
          30381,
          187582,
          69932
         ],
         "yaxis": "y6"
        },
        {
         "type": "bar",
         "x": [
          "Attempt to Murder",
          "Burglary",
          "Cattle Theft",
          "Dacoity",
          "Kidnapping /Abduction",
          "Murder",
          "Other Theft",
          "Robbery"
         ],
         "xaxis": "x9",
         "y": [
          36101,
          78229,
          37710,
          9923,
          84758,
          30381,
          187582,
          69932
         ],
         "yaxis": "y9"
        },
        {
         "type": "bar",
         "x": [
          "Attempt to Murder",
          "Burglary",
          "Cattle Theft",
          "Dacoity",
          "Kidnapping /Abduction",
          "Murder",
          "Other Theft",
          "Robbery"
         ],
         "xaxis": "x10",
         "y": [
          36101,
          78229,
          37710,
          9923,
          84758,
          30381,
          187582,
          69932
         ],
         "yaxis": "y10"
        },
        {
         "type": "bar",
         "x": [
          "Attempt to Murder",
          "Burglary",
          "Cattle Theft",
          "Dacoity",
          "Kidnapping /Abduction",
          "Murder",
          "Other Theft",
          "Robbery"
         ],
         "xaxis": "x13",
         "y": [
          36101,
          78229,
          37710,
          9923,
          84758,
          30381,
          187582,
          69932
         ],
         "yaxis": "y13"
        },
        {
         "type": "bar",
         "x": [
          "Attempt to Murder",
          "Burglary",
          "Cattle Theft",
          "Dacoity",
          "Kidnapping /Abduction",
          "Murder",
          "Other Theft",
          "Robbery"
         ],
         "xaxis": "x14",
         "y": [
          36101,
          78229,
          37710,
          9923,
          84758,
          30381,
          187582,
          69932
         ],
         "yaxis": "y14"
        }
       ],
       "layout": {
        "annotations": [
         {
          "font": {
           "size": 16
          },
          "showarrow": false,
          "text": "Punjab",
          "x": 0.225,
          "xanchor": "center",
          "xref": "paper",
          "y": 1,
          "yanchor": "bottom",
          "yref": "paper"
         },
         {
          "font": {
           "size": 16
          },
          "showarrow": false,
          "text": "Sindh",
          "x": 0.775,
          "xanchor": "center",
          "xref": "paper",
          "y": 1,
          "yanchor": "bottom",
          "yref": "paper"
         },
         {
          "font": {
           "size": 16
          },
          "showarrow": false,
          "text": "KP",
          "x": 0.225,
          "xanchor": "center",
          "xref": "paper",
          "y": 0.734375,
          "yanchor": "bottom",
          "yref": "paper"
         },
         {
          "font": {
           "size": 16
          },
          "showarrow": false,
          "text": "Balochistan",
          "x": 0.775,
          "xanchor": "center",
          "xref": "paper",
          "y": 0.734375,
          "yanchor": "bottom",
          "yref": "paper"
         },
         {
          "font": {
           "size": 16
          },
          "showarrow": false,
          "text": "Islamabad",
          "x": 0.225,
          "xanchor": "center",
          "xref": "paper",
          "y": 0.46875,
          "yanchor": "bottom",
          "yref": "paper"
         },
         {
          "font": {
           "size": 16
          },
          "showarrow": false,
          "text": "Railways",
          "x": 0.775,
          "xanchor": "center",
          "xref": "paper",
          "y": 0.46875,
          "yanchor": "bottom",
          "yref": "paper"
         },
         {
          "font": {
           "size": 16
          },
          "showarrow": false,
          "text": "GB",
          "x": 0.225,
          "xanchor": "center",
          "xref": "paper",
          "y": 0.203125,
          "yanchor": "bottom",
          "yref": "paper"
         },
         {
          "font": {
           "size": 16
          },
          "showarrow": false,
          "text": "AJK",
          "x": 0.775,
          "xanchor": "center",
          "xref": "paper",
          "y": 0.203125,
          "yanchor": "bottom",
          "yref": "paper"
         }
        ],
        "autosize": true,
        "font": {
         "color": "white"
        },
        "height": 1000,
        "paper_bgcolor": "#006600",
        "showlegend": false,
        "template": {
         "data": {
          "bar": [
           {
            "error_x": {
             "color": "#2a3f5f"
            },
            "error_y": {
             "color": "#2a3f5f"
            },
            "marker": {
             "line": {
              "color": "#E5ECF6",
              "width": 0.5
             }
            },
            "type": "bar"
           }
          ],
          "barpolar": [
           {
            "marker": {
             "line": {
              "color": "#E5ECF6",
              "width": 0.5
             }
            },
            "type": "barpolar"
           }
          ],
          "carpet": [
           {
            "aaxis": {
             "endlinecolor": "#2a3f5f",
             "gridcolor": "white",
             "linecolor": "white",
             "minorgridcolor": "white",
             "startlinecolor": "#2a3f5f"
            },
            "baxis": {
             "endlinecolor": "#2a3f5f",
             "gridcolor": "white",
             "linecolor": "white",
             "minorgridcolor": "white",
             "startlinecolor": "#2a3f5f"
            },
            "type": "carpet"
           }
          ],
          "choropleth": [
           {
            "colorbar": {
             "outlinewidth": 0,
             "ticks": ""
            },
            "type": "choropleth"
           }
          ],
          "contour": [
           {
            "colorbar": {
             "outlinewidth": 0,
             "ticks": ""
            },
            "colorscale": [
             [
              0,
              "#0d0887"
             ],
             [
              0.1111111111111111,
              "#46039f"
             ],
             [
              0.2222222222222222,
              "#7201a8"
             ],
             [
              0.3333333333333333,
              "#9c179e"
             ],
             [
              0.4444444444444444,
              "#bd3786"
             ],
             [
              0.5555555555555556,
              "#d8576b"
             ],
             [
              0.6666666666666666,
              "#ed7953"
             ],
             [
              0.7777777777777778,
              "#fb9f3a"
             ],
             [
              0.8888888888888888,
              "#fdca26"
             ],
             [
              1,
              "#f0f921"
             ]
            ],
            "type": "contour"
           }
          ],
          "contourcarpet": [
           {
            "colorbar": {
             "outlinewidth": 0,
             "ticks": ""
            },
            "type": "contourcarpet"
           }
          ],
          "heatmap": [
           {
            "colorbar": {
             "outlinewidth": 0,
             "ticks": ""
            },
            "colorscale": [
             [
              0,
              "#0d0887"
             ],
             [
              0.1111111111111111,
              "#46039f"
             ],
             [
              0.2222222222222222,
              "#7201a8"
             ],
             [
              0.3333333333333333,
              "#9c179e"
             ],
             [
              0.4444444444444444,
              "#bd3786"
             ],
             [
              0.5555555555555556,
              "#d8576b"
             ],
             [
              0.6666666666666666,
              "#ed7953"
             ],
             [
              0.7777777777777778,
              "#fb9f3a"
             ],
             [
              0.8888888888888888,
              "#fdca26"
             ],
             [
              1,
              "#f0f921"
             ]
            ],
            "type": "heatmap"
           }
          ],
          "heatmapgl": [
           {
            "colorbar": {
             "outlinewidth": 0,
             "ticks": ""
            },
            "colorscale": [
             [
              0,
              "#0d0887"
             ],
             [
              0.1111111111111111,
              "#46039f"
             ],
             [
              0.2222222222222222,
              "#7201a8"
             ],
             [
              0.3333333333333333,
              "#9c179e"
             ],
             [
              0.4444444444444444,
              "#bd3786"
             ],
             [
              0.5555555555555556,
              "#d8576b"
             ],
             [
              0.6666666666666666,
              "#ed7953"
             ],
             [
              0.7777777777777778,
              "#fb9f3a"
             ],
             [
              0.8888888888888888,
              "#fdca26"
             ],
             [
              1,
              "#f0f921"
             ]
            ],
            "type": "heatmapgl"
           }
          ],
          "histogram": [
           {
            "marker": {
             "colorbar": {
              "outlinewidth": 0,
              "ticks": ""
             }
            },
            "type": "histogram"
           }
          ],
          "histogram2d": [
           {
            "colorbar": {
             "outlinewidth": 0,
             "ticks": ""
            },
            "colorscale": [
             [
              0,
              "#0d0887"
             ],
             [
              0.1111111111111111,
              "#46039f"
             ],
             [
              0.2222222222222222,
              "#7201a8"
             ],
             [
              0.3333333333333333,
              "#9c179e"
             ],
             [
              0.4444444444444444,
              "#bd3786"
             ],
             [
              0.5555555555555556,
              "#d8576b"
             ],
             [
              0.6666666666666666,
              "#ed7953"
             ],
             [
              0.7777777777777778,
              "#fb9f3a"
             ],
             [
              0.8888888888888888,
              "#fdca26"
             ],
             [
              1,
              "#f0f921"
             ]
            ],
            "type": "histogram2d"
           }
          ],
          "histogram2dcontour": [
           {
            "colorbar": {
             "outlinewidth": 0,
             "ticks": ""
            },
            "colorscale": [
             [
              0,
              "#0d0887"
             ],
             [
              0.1111111111111111,
              "#46039f"
             ],
             [
              0.2222222222222222,
              "#7201a8"
             ],
             [
              0.3333333333333333,
              "#9c179e"
             ],
             [
              0.4444444444444444,
              "#bd3786"
             ],
             [
              0.5555555555555556,
              "#d8576b"
             ],
             [
              0.6666666666666666,
              "#ed7953"
             ],
             [
              0.7777777777777778,
              "#fb9f3a"
             ],
             [
              0.8888888888888888,
              "#fdca26"
             ],
             [
              1,
              "#f0f921"
             ]
            ],
            "type": "histogram2dcontour"
           }
          ],
          "mesh3d": [
           {
            "colorbar": {
             "outlinewidth": 0,
             "ticks": ""
            },
            "type": "mesh3d"
           }
          ],
          "parcoords": [
           {
            "line": {
             "colorbar": {
              "outlinewidth": 0,
              "ticks": ""
             }
            },
            "type": "parcoords"
           }
          ],
          "pie": [
           {
            "automargin": true,
            "type": "pie"
           }
          ],
          "scatter": [
           {
            "marker": {
             "colorbar": {
              "outlinewidth": 0,
              "ticks": ""
             }
            },
            "type": "scatter"
           }
          ],
          "scatter3d": [
           {
            "line": {
             "colorbar": {
              "outlinewidth": 0,
              "ticks": ""
             }
            },
            "marker": {
             "colorbar": {
              "outlinewidth": 0,
              "ticks": ""
             }
            },
            "type": "scatter3d"
           }
          ],
          "scattercarpet": [
           {
            "marker": {
             "colorbar": {
              "outlinewidth": 0,
              "ticks": ""
             }
            },
            "type": "scattercarpet"
           }
          ],
          "scattergeo": [
           {
            "marker": {
             "colorbar": {
              "outlinewidth": 0,
              "ticks": ""
             }
            },
            "type": "scattergeo"
           }
          ],
          "scattergl": [
           {
            "marker": {
             "colorbar": {
              "outlinewidth": 0,
              "ticks": ""
             }
            },
            "type": "scattergl"
           }
          ],
          "scattermapbox": [
           {
            "marker": {
             "colorbar": {
              "outlinewidth": 0,
              "ticks": ""
             }
            },
            "type": "scattermapbox"
           }
          ],
          "scatterpolar": [
           {
            "marker": {
             "colorbar": {
              "outlinewidth": 0,
              "ticks": ""
             }
            },
            "type": "scatterpolar"
           }
          ],
          "scatterpolargl": [
           {
            "marker": {
             "colorbar": {
              "outlinewidth": 0,
              "ticks": ""
             }
            },
            "type": "scatterpolargl"
           }
          ],
          "scatterternary": [
           {
            "marker": {
             "colorbar": {
              "outlinewidth": 0,
              "ticks": ""
             }
            },
            "type": "scatterternary"
           }
          ],
          "surface": [
           {
            "colorbar": {
             "outlinewidth": 0,
             "ticks": ""
            },
            "colorscale": [
             [
              0,
              "#0d0887"
             ],
             [
              0.1111111111111111,
              "#46039f"
             ],
             [
              0.2222222222222222,
              "#7201a8"
             ],
             [
              0.3333333333333333,
              "#9c179e"
             ],
             [
              0.4444444444444444,
              "#bd3786"
             ],
             [
              0.5555555555555556,
              "#d8576b"
             ],
             [
              0.6666666666666666,
              "#ed7953"
             ],
             [
              0.7777777777777778,
              "#fb9f3a"
             ],
             [
              0.8888888888888888,
              "#fdca26"
             ],
             [
              1,
              "#f0f921"
             ]
            ],
            "type": "surface"
           }
          ],
          "table": [
           {
            "cells": {
             "fill": {
              "color": "#EBF0F8"
             },
             "line": {
              "color": "white"
             }
            },
            "header": {
             "fill": {
              "color": "#C8D4E3"
             },
             "line": {
              "color": "white"
             }
            },
            "type": "table"
           }
          ]
         },
         "layout": {
          "annotationdefaults": {
           "arrowcolor": "#2a3f5f",
           "arrowhead": 0,
           "arrowwidth": 1
          },
          "autotypenumbers": "strict",
          "coloraxis": {
           "colorbar": {
            "outlinewidth": 0,
            "ticks": ""
           }
          },
          "colorscale": {
           "diverging": [
            [
             0,
             "#8e0152"
            ],
            [
             0.1,
             "#c51b7d"
            ],
            [
             0.2,
             "#de77ae"
            ],
            [
             0.3,
             "#f1b6da"
            ],
            [
             0.4,
             "#fde0ef"
            ],
            [
             0.5,
             "#f7f7f7"
            ],
            [
             0.6,
             "#e6f5d0"
            ],
            [
             0.7,
             "#b8e186"
            ],
            [
             0.8,
             "#7fbc41"
            ],
            [
             0.9,
             "#4d9221"
            ],
            [
             1,
             "#276419"
            ]
           ],
           "sequential": [
            [
             0,
             "#0d0887"
            ],
            [
             0.1111111111111111,
             "#46039f"
            ],
            [
             0.2222222222222222,
             "#7201a8"
            ],
            [
             0.3333333333333333,
             "#9c179e"
            ],
            [
             0.4444444444444444,
             "#bd3786"
            ],
            [
             0.5555555555555556,
             "#d8576b"
            ],
            [
             0.6666666666666666,
             "#ed7953"
            ],
            [
             0.7777777777777778,
             "#fb9f3a"
            ],
            [
             0.8888888888888888,
             "#fdca26"
            ],
            [
             1,
             "#f0f921"
            ]
           ],
           "sequentialminus": [
            [
             0,
             "#0d0887"
            ],
            [
             0.1111111111111111,
             "#46039f"
            ],
            [
             0.2222222222222222,
             "#7201a8"
            ],
            [
             0.3333333333333333,
             "#9c179e"
            ],
            [
             0.4444444444444444,
             "#bd3786"
            ],
            [
             0.5555555555555556,
             "#d8576b"
            ],
            [
             0.6666666666666666,
             "#ed7953"
            ],
            [
             0.7777777777777778,
             "#fb9f3a"
            ],
            [
             0.8888888888888888,
             "#fdca26"
            ],
            [
             1,
             "#f0f921"
            ]
           ]
          },
          "colorway": [
           "#636efa",
           "#EF553B",
           "#00cc96",
           "#ab63fa",
           "#FFA15A",
           "#19d3f3",
           "#FF6692",
           "#B6E880",
           "#FF97FF",
           "#FECB52"
          ],
          "font": {
           "color": "#2a3f5f"
          },
          "geo": {
           "bgcolor": "white",
           "lakecolor": "white",
           "landcolor": "#E5ECF6",
           "showlakes": true,
           "showland": true,
           "subunitcolor": "white"
          },
          "hoverlabel": {
           "align": "left"
          },
          "hovermode": "closest",
          "mapbox": {
           "style": "light"
          },
          "paper_bgcolor": "white",
          "plot_bgcolor": "#E5ECF6",
          "polar": {
           "angularaxis": {
            "gridcolor": "white",
            "linecolor": "white",
            "ticks": ""
           },
           "bgcolor": "#E5ECF6",
           "radialaxis": {
            "gridcolor": "white",
            "linecolor": "white",
            "ticks": ""
           }
          },
          "scene": {
           "xaxis": {
            "backgroundcolor": "#E5ECF6",
            "gridcolor": "white",
            "gridwidth": 2,
            "linecolor": "white",
            "showbackground": true,
            "ticks": "",
            "zerolinecolor": "white"
           },
           "yaxis": {
            "backgroundcolor": "#E5ECF6",
            "gridcolor": "white",
            "gridwidth": 2,
            "linecolor": "white",
            "showbackground": true,
            "ticks": "",
            "zerolinecolor": "white"
           },
           "zaxis": {
            "backgroundcolor": "#E5ECF6",
            "gridcolor": "white",
            "gridwidth": 2,
            "linecolor": "white",
            "showbackground": true,
            "ticks": "",
            "zerolinecolor": "white"
           }
          },
          "shapedefaults": {
           "line": {
            "color": "#2a3f5f"
           }
          },
          "ternary": {
           "aaxis": {
            "gridcolor": "white",
            "linecolor": "white",
            "ticks": ""
           },
           "baxis": {
            "gridcolor": "white",
            "linecolor": "white",
            "ticks": ""
           },
           "bgcolor": "#E5ECF6",
           "caxis": {
            "gridcolor": "white",
            "linecolor": "white",
            "ticks": ""
           }
          },
          "title": {
           "x": 0.05
          },
          "xaxis": {
           "automargin": true,
           "gridcolor": "white",
           "linecolor": "white",
           "ticks": "",
           "title": {
            "standoff": 15
           },
           "zerolinecolor": "white",
           "zerolinewidth": 2
          },
          "yaxis": {
           "automargin": true,
           "gridcolor": "white",
           "linecolor": "white",
           "ticks": "",
           "title": {
            "standoff": 15
           },
           "zerolinecolor": "white",
           "zerolinewidth": 2
          }
         }
        },
        "title": {
         "text": "Crimes by Province"
        },
        "width": 1000,
        "xaxis": {
         "anchor": "y",
         "domain": [
          0,
          0.45
         ]
        },
        "xaxis10": {
         "anchor": "y10",
         "domain": [
          0.55,
          1
         ]
        },
        "xaxis11": {
         "anchor": "y11",
         "domain": [
          0,
          0.45
         ]
        },
        "xaxis12": {
         "anchor": "y12",
         "domain": [
          0.55,
          1
         ]
        },
        "xaxis13": {
         "anchor": "y13",
         "domain": [
          0,
          0.45
         ]
        },
        "xaxis14": {
         "anchor": "y14",
         "domain": [
          0.55,
          1
         ]
        },
        "xaxis15": {
         "anchor": "y15",
         "domain": [
          0,
          0.45
         ]
        },
        "xaxis16": {
         "anchor": "y16",
         "domain": [
          0.55,
          1
         ]
        },
        "xaxis2": {
         "anchor": "y2",
         "domain": [
          0.55,
          1
         ]
        },
        "xaxis3": {
         "anchor": "y3",
         "domain": [
          0,
          0.45
         ]
        },
        "xaxis4": {
         "anchor": "y4",
         "domain": [
          0.55,
          1
         ]
        },
        "xaxis5": {
         "anchor": "y5",
         "domain": [
          0,
          0.45
         ]
        },
        "xaxis6": {
         "anchor": "y6",
         "domain": [
          0.55,
          1
         ]
        },
        "xaxis7": {
         "anchor": "y7",
         "domain": [
          0,
          0.45
         ]
        },
        "xaxis8": {
         "anchor": "y8",
         "domain": [
          0.55,
          1
         ]
        },
        "xaxis9": {
         "anchor": "y9",
         "domain": [
          0,
          0.45
         ]
        },
        "yaxis": {
         "anchor": "x",
         "domain": [
          0.9296875,
          1
         ]
        },
        "yaxis10": {
         "anchor": "x10",
         "domain": [
          0.3984375,
          0.46875
         ]
        },
        "yaxis11": {
         "anchor": "x11",
         "domain": [
          0.265625,
          0.3359375
         ]
        },
        "yaxis12": {
         "anchor": "x12",
         "domain": [
          0.265625,
          0.3359375
         ]
        },
        "yaxis13": {
         "anchor": "x13",
         "domain": [
          0.1328125,
          0.203125
         ]
        },
        "yaxis14": {
         "anchor": "x14",
         "domain": [
          0.1328125,
          0.203125
         ]
        },
        "yaxis15": {
         "anchor": "x15",
         "domain": [
          0,
          0.0703125
         ]
        },
        "yaxis16": {
         "anchor": "x16",
         "domain": [
          0,
          0.0703125
         ]
        },
        "yaxis2": {
         "anchor": "x2",
         "domain": [
          0.9296875,
          1
         ]
        },
        "yaxis3": {
         "anchor": "x3",
         "domain": [
          0.796875,
          0.8671875
         ]
        },
        "yaxis4": {
         "anchor": "x4",
         "domain": [
          0.796875,
          0.8671875
         ]
        },
        "yaxis5": {
         "anchor": "x5",
         "domain": [
          0.6640625,
          0.734375
         ]
        },
        "yaxis6": {
         "anchor": "x6",
         "domain": [
          0.6640625,
          0.734375
         ]
        },
        "yaxis7": {
         "anchor": "x7",
         "domain": [
          0.53125,
          0.6015625
         ]
        },
        "yaxis8": {
         "anchor": "x8",
         "domain": [
          0.53125,
          0.6015625
         ]
        },
        "yaxis9": {
         "anchor": "x9",
         "domain": [
          0.3984375,
          0.46875
         ]
        }
       }
      }
     },
     "metadata": {},
     "output_type": "display_data"
    }
   ],
   "source": [
    "fig = make_subplots(\r\n",
    "        rows=8,\r\n",
    "        cols=2,\r\n",
    "        subplot_titles=(\"Punjab\", 'Sindh','','', 'KP', 'Balochistan','','', 'Islamabad', 'Railways','','', 'GB', 'AJK')\r\n",
    "\r\n",
    ")\r\n",
    "# Punjab\r\n",
    "fig.add_trace(go.Bar(x=punjab_crime.index, y=punjab_crime.values), row=1, col=1)\r\n",
    "# Sindh\r\n",
    "fig.add_trace(go.Bar(x=punjab_crime.index, y=punjab_crime.values), row=1, col=2)\r\n",
    "# KP\r\n",
    "fig.add_trace(go.Bar(x=punjab_crime.index, y=punjab_crime.values), row=3, col=1)\r\n",
    "# Balochistan\r\n",
    "fig.add_trace(go.Bar(x=punjab_crime.index, y=punjab_crime.values), row=3, col=2)\r\n",
    "# Islamabad\r\n",
    "fig.add_trace(go.Bar(x=punjab_crime.index, y=punjab_crime.values), row=5, col=1)\r\n",
    "# Railways\r\n",
    "fig.add_trace(go.Bar(x=punjab_crime.index, y=punjab_crime.values), row=5, col=2)\r\n",
    "# GB\r\n",
    "fig.add_trace(go.Bar(x=punjab_crime.index, y=punjab_crime.values), row=7, col=1)\r\n",
    "#AJK\r\n",
    "fig.add_trace(go.Bar(x=punjab_crime.index, y=punjab_crime.values), row=7, col=2)\r\n",
    "\r\n",
    "fig.update_layout(\r\n",
    "    title_text='Crimes by Province',\r\n",
    "    autosize=True,\r\n",
    "    width=1000,\r\n",
    "    height=1000,\r\n",
    "    paper_bgcolor='#006600',\r\n",
    "    font_color= 'white',\r\n",
    "    showlegend=False\r\n",
    "    )\r\n",
    "\r\n"
   ]
  },
  {
   "cell_type": "code",
   "execution_count": null,
   "metadata": {},
   "outputs": [],
   "source": []
  }
 ],
 "metadata": {
  "interpreter": {
   "hash": "2b14eb06d0ff175d1ca35012c0a6bf747b606852cabfc5af92bc544fada6cf0c"
  },
  "kernelspec": {
   "display_name": "Python 3.9.5 64-bit",
   "name": "python3"
  },
  "language_info": {
   "codemirror_mode": {
    "name": "ipython",
    "version": 3
   },
   "file_extension": ".py",
   "mimetype": "text/x-python",
   "name": "python",
   "nbconvert_exporter": "python",
   "pygments_lexer": "ipython3",
   "version": "3.9.5"
  },
  "orig_nbformat": 4
 },
 "nbformat": 4,
 "nbformat_minor": 2
}